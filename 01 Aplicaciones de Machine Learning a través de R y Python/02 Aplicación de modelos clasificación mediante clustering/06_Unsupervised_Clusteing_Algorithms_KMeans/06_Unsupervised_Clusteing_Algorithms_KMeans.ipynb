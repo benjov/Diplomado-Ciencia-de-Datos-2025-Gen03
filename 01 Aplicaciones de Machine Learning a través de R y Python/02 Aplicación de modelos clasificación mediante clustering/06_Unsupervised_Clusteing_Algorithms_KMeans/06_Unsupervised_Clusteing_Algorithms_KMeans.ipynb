{
 "cells": [
  {
   "cell_type": "markdown",
   "metadata": {},
   "source": [
    "# Algoritmos populares de agrupación / Clustering Algorithms\n",
    "\n",
    "## Visualizando datos de COVID-19\n",
    "\n",
    "Actualización a julio de 2024"
   ]
  },
  {
   "cell_type": "code",
   "execution_count": null,
   "metadata": {},
   "outputs": [],
   "source": [
    "# Dependencies\n",
    "import pandas as pd\n",
    "pd.set_option('display.max_columns', 100)\n",
    "from pandas.plotting import scatter_matrix\n",
    "import numpy as np\n",
    "import math\n",
    "import matplotlib.pyplot as plt\n",
    "import seaborn as sns\n",
    "from sklearn.cluster import KMeans\n",
    "\n",
    "import warnings\n",
    "warnings.filterwarnings('ignore')"
   ]
  },
  {
   "cell_type": "code",
   "execution_count": null,
   "metadata": {},
   "outputs": [],
   "source": [
    "#!pip install pip\n",
    "#!pip install --upgrade seaborn\n",
    "#!pip install --upgrade numpy"
   ]
  },
  {
   "cell_type": "code",
   "execution_count": null,
   "metadata": {},
   "outputs": [],
   "source": [
    "# Opciones de visualizació de cifras:\n",
    "pd.options.display.float_format = '{:,.2f}'.format #'${:,.2f}'"
   ]
  },
  {
   "cell_type": "markdown",
   "metadata": {},
   "source": [
    "## Descarga de datos\n",
    "\n",
    "Datos reportados por la Secretaría de Salud sobre la COVID19. Los datos se publican diariamente y se pueden encontrar aquí.\n",
    "\n",
    "Los datos están en formato zip, dentro del archivo comprimido hay un archivo de tipo CSV.\n",
    "\n",
    "Los utilizaremoss sin descargarlos y descomprimirlos.\n",
    "\n",
    "Fuente: https://www.gob.mx/salud/documentos/datos-abiertos-bases-historicas-direccion-general-de-epidemiologia?idiom=es"
   ]
  },
  {
   "cell_type": "code",
   "execution_count": null,
   "metadata": {},
   "outputs": [],
   "source": [
    "# Cara renglón en este data set representa a una persona\n",
    "\n",
    "df_2025 = pd.read_csv('https://datosabiertos.salud.gob.mx/gobmx/salud/datos_abiertos/historicos/2025/05/datos_abiertos_influenza_covid19_06.05.2025.zip', \n",
    "                  compression = 'zip', encoding = 'latin1')\n",
    "\n",
    "df_2025.head()"
   ]
  },
  {
   "cell_type": "code",
   "execution_count": null,
   "metadata": {},
   "outputs": [],
   "source": [
    "#\n",
    "\n",
    "df_2025.tail()"
   ]
  },
  {
   "cell_type": "code",
   "execution_count": null,
   "metadata": {},
   "outputs": [],
   "source": [
    "#\n",
    "\n",
    "df_2025['CLASIFICACION_FINAL'] = df_2025['CLASIFICACION_FINAL_COVID']\n",
    "\n",
    "#df_2025['CLASIFICACION_FINAL'] = df_2025['CLASIFICACION_FINAL_FLU']"
   ]
  },
  {
   "cell_type": "code",
   "execution_count": null,
   "metadata": {},
   "outputs": [],
   "source": [
    "# Cara renglón en este data set representa a una persona\n",
    "\n",
    "df_2024 = pd.read_csv('https://datosabiertos.salud.gob.mx/gobmx/salud/datos_abiertos/historicos/2024/12/datos_abiertos_influenza_covid19_31.12.2024.zip', \n",
    "                  compression = 'zip', encoding = 'latin1')\n",
    "\n",
    "df_2024.head()"
   ]
  },
  {
   "cell_type": "code",
   "execution_count": null,
   "metadata": {},
   "outputs": [],
   "source": [
    "#\n",
    "\n",
    "df_2024.tail()"
   ]
  },
  {
   "cell_type": "code",
   "execution_count": null,
   "metadata": {},
   "outputs": [],
   "source": [
    "#\n",
    "\n",
    "df_2024['CLASIFICACION_FINAL'] = df_2024['CLASIFICACION_FINAL_COVID']\n",
    "\n",
    "#df_2024['CLASIFICACION_FINAL'] = df_2024['CLASIFICACION_FINAL_FLU']"
   ]
  },
  {
   "cell_type": "code",
   "execution_count": null,
   "metadata": {},
   "outputs": [],
   "source": [
    "# Cara renglón en este data set representa a una persona\n",
    "\n",
    "df_2023 = pd.read_csv('https://datosabiertos.salud.gob.mx/gobmx/salud/datos_abiertos/historicos/2023/COVID19MEXICO2023.zip', \n",
    "                  compression = 'zip', encoding = 'latin1')\n",
    "\n",
    "df_2023.head()"
   ]
  },
  {
   "cell_type": "code",
   "execution_count": null,
   "metadata": {},
   "outputs": [],
   "source": [
    "#\n",
    "\n",
    "df_2023.tail()"
   ]
  },
  {
   "cell_type": "code",
   "execution_count": null,
   "metadata": {},
   "outputs": [],
   "source": [
    "# Cara renglón en este data set representa a una persona\n",
    "\n",
    "df_2022 = pd.read_csv('https://datosabiertos.salud.gob.mx/gobmx/salud/datos_abiertos/historicos/2022/COVID19MEXICO2022.zip', \n",
    "                  compression = 'zip', encoding = 'latin1')\n",
    "\n",
    "df_2022.head()"
   ]
  },
  {
   "cell_type": "code",
   "execution_count": null,
   "metadata": {},
   "outputs": [],
   "source": [
    "#\n",
    "\n",
    "df_2022.tail()"
   ]
  },
  {
   "cell_type": "code",
   "execution_count": null,
   "metadata": {},
   "outputs": [],
   "source": [
    "# Cara renglón en este data set representa a una persona\n",
    "\n",
    "df_2021 = pd.read_csv('https://datosabiertos.salud.gob.mx/gobmx/salud/datos_abiertos/historicos/2021/COVID19MEXICO2021.zip', \n",
    "                  compression = 'zip', encoding = 'latin1')\n",
    "\n",
    "df_2021.head()"
   ]
  },
  {
   "cell_type": "code",
   "execution_count": null,
   "metadata": {},
   "outputs": [],
   "source": [
    "#\n",
    "\n",
    "df_2021.tail()"
   ]
  },
  {
   "cell_type": "code",
   "execution_count": null,
   "metadata": {},
   "outputs": [],
   "source": [
    "# Cara renglón en este data set representa a una persona\n",
    "\n",
    "df_2020 = pd.read_csv('https://datosabiertos.salud.gob.mx/gobmx/salud/datos_abiertos/historicos/2020/COVID19MEXICO2020.zip', \n",
    "                  compression = 'zip', encoding = 'latin1')\n",
    "\n",
    "df_2020.head()"
   ]
  },
  {
   "cell_type": "code",
   "execution_count": null,
   "metadata": {},
   "outputs": [],
   "source": [
    "#\n",
    "\n",
    "df_2020.tail()"
   ]
  },
  {
   "cell_type": "code",
   "execution_count": null,
   "metadata": {},
   "outputs": [],
   "source": [
    "# Número de datos\n",
    "\n",
    "df_2025.shape, df_2024.shape, df_2023.shape, df_2022.shape, df_2021.shape, df_2020.shape"
   ]
  },
  {
   "cell_type": "code",
   "execution_count": null,
   "metadata": {},
   "outputs": [],
   "source": [
    "# Concatenamos la información\n",
    "\n",
    "df = pd.concat([ df_2020, df_2021, df_2022, df_2023, df_2024, df_2025 ], ignore_index = True )\n",
    "\n",
    "df.head()"
   ]
  },
  {
   "cell_type": "code",
   "execution_count": null,
   "metadata": {},
   "outputs": [],
   "source": [
    "# Número de datos\n",
    "\n",
    "df.shape, 248602 + 175586 + 1304796 + 6451944 + 8830345 + 3868396"
   ]
  },
  {
   "cell_type": "code",
   "execution_count": null,
   "metadata": {},
   "outputs": [],
   "source": [
    "# Nombres de las columnas\n",
    "\n",
    "df.columns"
   ]
  },
  {
   "cell_type": "code",
   "execution_count": null,
   "metadata": {},
   "outputs": [],
   "source": [
    "# Tipo de caso que analizaremos y cómo los clasificaremos\n",
    "\n",
    "df['CLASIFICACION_FINAL'].value_counts()"
   ]
  },
  {
   "cell_type": "code",
   "execution_count": null,
   "metadata": {},
   "outputs": [],
   "source": [
    "df[ df['CLASIFICACION_FINAL'].isna() ]"
   ]
  },
  {
   "cell_type": "markdown",
   "metadata": {},
   "source": [
    "## Claves de la 'CLASIFICACION FINAL'\n",
    "\n",
    "\n",
    "* 1 = CASO DE COVID-19 CONFIRMADO POR ASOCIACIÓN CLÍNICA EPIDEMIOLÓGICA: aplica cuando el caso informó ser contacto de un positivo a COVID-19 y al caso no se le tomo muestra o la muestra resultó no válida\n",
    "* 2 = CASO DE COVID-19 CONFIRMADO POR COMITÉ DE  DICTAMINACIÓN: aplica para defunciones que no se le tomó muestra o sí se tomó muestra, pero la muestra resultó no válida\n",
    "* 3 = CASO DE SARS-COV-2 CONFIRMADO POR LABORATORIO: aplica  cuanndo el caso tiene muestra y resultó positiva a SARS-CoV-2, sin importar si el caso tienen asociación clínica epidemiológica\n",
    "* 4 = INVÁLIDO POR LABORATORIO: aplica cuando el caso no tienen asociación clínico epidemiológica, ni dictaminación a COVID-19, se le tomó muestra y esta resultó no válida\n",
    "* 5 = NO REALIZADO POR LABORATORIO: aplica cuando el caso no tienen asociación clínico epidemiológica, ni dictaminación a COVID-19 y se le tomó muestra y esta no se procesó\n",
    "* 6 = CASO SOSPECHOSO: aplica cuando el caso no tienen asociación clínico epidemiológica, ni dictaminación a COVID-19 y no se le tomó muestra, o se le tomó muestra y está pendiente de resultado, sin importar otra condición\n",
    "* 7 = NEGATIVO A SARS-COV-2 POR LABORATORIO: aplica cuando el caso se le tomo muestra y esta resultó negativa a SARS-COV-2 o positiva a cualquier otro virus respiratorio (Influenza, VSR, Bocavirus, otros) sin importar que este caso tenga asociación clínico epidemiológica o dictaminación a COVID-19"
   ]
  },
  {
   "cell_type": "markdown",
   "metadata": {},
   "source": [
    "## Clasificando los casos de acuerdo a su calidad de confirmados, sospechosos o negativos [tablero olvidado por la 4t]\n",
    "\n",
    "Para checar consistencia: https://datos.covid-19.conacyt.mx/"
   ]
  },
  {
   "cell_type": "markdown",
   "metadata": {},
   "source": [
    "## Casos negativos\n",
    "\n",
    "* 7 = NEGATIVO A SARS-COV-2 POR LABORATORIO: aplica cuando el caso se le tomo muestra y esta resultó negativa a SARS-COV-2 o positiva a cualquier otro virus respiratorio (Influenza, VSR, Bocavirus, otros) sin importar que este caso tenga asociación clínico epidemiológica o dictaminación a COVID-19"
   ]
  },
  {
   "cell_type": "code",
   "execution_count": null,
   "metadata": {},
   "outputs": [],
   "source": [
    "# \n",
    "\n",
    "Negativos = df[ df[\"CLASIFICACION_FINAL\"] == 7 ]\n",
    "\n",
    "Negativos.shape"
   ]
  },
  {
   "cell_type": "markdown",
   "metadata": {},
   "source": [
    "## Casos confirmados\n",
    "\n",
    "* 1 = CASO DE COVID-19 CONFIRMADO POR ASOCIACIÓN CLÍNICA EPIDEMIOLÓGICA: aplica cuando el caso informó ser contacto de un positivo a COVID-19 y al caso no se le tomo muestra o la muestra resultó no válida\n",
    "* 2 = CASO DE COVID-19 CONFIRMADO POR COMITÉ DE  DICTAMINACIÓN: aplica para defunciones que no se le tomó muestra o sí se tomó muestra, pero la muestra resultó no válida\n",
    "* 3 = CASO DE SARS-COV-2 CONFIRMADO POR LABORATORIO: aplica  cuanndo el caso tiene muestra y resultó positiva a SARS-CoV-2, sin importar si el caso tienen asociación clínica epidemiológica"
   ]
  },
  {
   "cell_type": "code",
   "execution_count": null,
   "metadata": {},
   "outputs": [],
   "source": [
    "#\n",
    "\n",
    "Confirmados = df[ df[\"CLASIFICACION_FINAL\"].isin( [1, 2, 3] ) ]\n",
    "\n",
    "Confirmados.shape"
   ]
  },
  {
   "cell_type": "markdown",
   "metadata": {},
   "source": [
    "Gráfica - Histograma por sexo"
   ]
  },
  {
   "cell_type": "code",
   "execution_count": null,
   "metadata": {},
   "outputs": [],
   "source": [
    "# CLAVE DESCRIPCIÓN\n",
    "# 1 - MUJER\n",
    "# 2 - HOMBRE\n",
    "\n",
    "Confirmados['SEXO'].value_counts()"
   ]
  },
  {
   "cell_type": "code",
   "execution_count": null,
   "metadata": {},
   "outputs": [],
   "source": [
    "Confirmados[Confirmados['SEXO'] == 2]['EDAD']"
   ]
  },
  {
   "cell_type": "code",
   "execution_count": null,
   "metadata": {},
   "outputs": [],
   "source": [
    "# Histograma:\n",
    "\n",
    "H = Confirmados[Confirmados['SEXO'] == 2]['EDAD']\n",
    "\n",
    "M = Confirmados[Confirmados['SEXO'] == 1]['EDAD']\n",
    "\n",
    "plt.figure(figsize=(10, 6))  \n",
    "\n",
    "# Añadir los histogramas. alpha es para la opacidad.\n",
    "plt.hist(H, bins=30, alpha=0.75, label='Hombres')\n",
    "plt.hist(M, bins=30, alpha=0.75, label='Mujeres')\n",
    "\n",
    "# Configurar las leyendas\n",
    "plt.legend(loc = 'upper right')\n",
    "\n",
    "# Título y etiquetas\n",
    "plt.title('Casos confirmados acumulados por edad', fontsize=16, fontname='Times New Roman', pad=20)\n",
    "plt.xlabel('Edad', fontsize=14, fontname='Times New Roman')\n",
    "plt.ylabel('Frecuencia', fontsize=14, fontname='Times New Roman')\n",
    "\n",
    "plt.show()"
   ]
  },
  {
   "cell_type": "code",
   "execution_count": null,
   "metadata": {},
   "outputs": [],
   "source": [
    "#\n",
    "\n",
    "Confirmados[\"FECHA_SINTOMAS\"].value_counts()"
   ]
  },
  {
   "cell_type": "code",
   "execution_count": null,
   "metadata": {},
   "outputs": [],
   "source": [
    "#\n",
    "\n",
    "Confirmados[\"FECHA_INGRESO\"].value_counts()"
   ]
  },
  {
   "cell_type": "markdown",
   "metadata": {},
   "source": [
    "## Casos sospechosos\n",
    "\n",
    "* 6 = CASO SOSPECHOSO: aplica cuando el caso no tienen asociación clínico epidemiológica, ni dictaminación a COVID-19 y no se le tomó muestra, o se le tomó muestra y está pendiente de resultado, sin importar otra condición"
   ]
  },
  {
   "cell_type": "code",
   "execution_count": null,
   "metadata": {},
   "outputs": [],
   "source": [
    "#\n",
    "\n",
    "Sospechosos = df[ df[\"CLASIFICACION_FINAL\"] == 6 ]\n",
    "\n",
    "Sospechosos.shape "
   ]
  },
  {
   "cell_type": "markdown",
   "metadata": {},
   "source": [
    "## Defunciones\n",
    "\n",
    "La base de datos no cuenta con una columna que indique de forma categórica si el caso falleció o no. \n",
    "\n",
    "Podemos obtener este dato de forma indirecta; utillizando la fecha de defunción en \"FECHA_DEF\""
   ]
  },
  {
   "cell_type": "code",
   "execution_count": null,
   "metadata": {},
   "outputs": [],
   "source": [
    "#\n",
    "\n",
    "df[\"FECHA_DEF\"].value_counts()"
   ]
  },
  {
   "cell_type": "code",
   "execution_count": null,
   "metadata": {},
   "outputs": [],
   "source": [
    "#\n",
    "#Confirmados = df[ df[\"CLASIFICACION_FINAL\"].isin( [1, 2, 3] ) ]\n",
    "\n",
    "\n",
    "Defunciones = df[ ( df[\"CLASIFICACION_FINAL\"].isin( [1, 2, 3] ) ) & ( df[\"FECHA_DEF\"] != \"9999-99-99\"  ) ]\n",
    "Defunciones.shape "
   ]
  },
  {
   "cell_type": "markdown",
   "metadata": {},
   "source": [
    "Gráfica - Histograma por sexo"
   ]
  },
  {
   "cell_type": "code",
   "execution_count": null,
   "metadata": {},
   "outputs": [],
   "source": [
    "# CLAVE\tDESCRIPCIÓN\n",
    "# 1 - MUJER\n",
    "# 2 - HOMBRE\n",
    "\n",
    "Defunciones['SEXO'].value_counts()"
   ]
  },
  {
   "cell_type": "code",
   "execution_count": null,
   "metadata": {
    "scrolled": false
   },
   "outputs": [],
   "source": [
    "# Histograma:\n",
    "\n",
    "H = Defunciones[(Defunciones['SEXO'] == 2) ]['EDAD']\n",
    "\n",
    "M = Defunciones[(Defunciones['SEXO'] == 1) ]['EDAD']\n",
    "\n",
    "plt.figure(figsize=(10, 6))  \n",
    "\n",
    "# Añadir los histogramas. alpha es para la opacidad.\n",
    "plt.hist(H, bins=30, alpha=0.75, label='Hombres')\n",
    "plt.hist(M, bins=30, alpha=0.75, label='Mujeres')\n",
    "\n",
    "# Configurar las leyendas\n",
    "plt.legend(loc = 'upper right')\n",
    "\n",
    "# Título y etiquetas\n",
    "plt.title('Defunciones acumuladas por edad (TODA LA PANDEMIA y hasta el momento)', fontsize=16, fontname='Times New Roman', pad=20)\n",
    "plt.xlabel('Edad', fontsize=14, fontname='Times New Roman')\n",
    "plt.ylabel('Frecuencia', fontsize=14, fontname='Times New Roman')\n",
    "\n",
    "plt.show()"
   ]
  },
  {
   "cell_type": "markdown",
   "metadata": {},
   "source": [
    "## Serie de casos confirmados diarios"
   ]
  },
  {
   "cell_type": "code",
   "execution_count": null,
   "metadata": {},
   "outputs": [],
   "source": [
    "# Agrupando por fechas: \n",
    "\n",
    "Grupos_fecha = Confirmados.groupby(\"FECHA_SINTOMAS\")\n",
    "\n",
    "# Guardamos como Data Frame\n",
    "\n",
    "Serie_Confirmados = Grupos_fecha.size().to_frame(\"Confirmados\").reset_index()\n",
    "\n",
    "# Convertimos a tipo de dato fecha la columna:\n",
    "\n",
    "Serie_Confirmados[\"Fecha\"] = pd.to_datetime(Serie_Confirmados[\"FECHA_SINTOMAS\"])\n",
    "\n",
    "Serie_Confirmados.head()"
   ]
  },
  {
   "cell_type": "code",
   "execution_count": null,
   "metadata": {},
   "outputs": [],
   "source": [
    "# Agrupando por fechas: \n",
    "\n",
    "Grupos_fecha = Confirmados.groupby(\"FECHA_INGRESO\")\n",
    "\n",
    "# Guardamos como Data Frame\n",
    "\n",
    "Serie_Confirmados_B = Grupos_fecha.size().to_frame(\"Confirmados\").reset_index()\n",
    "\n",
    "Serie_Confirmados_B = Serie_Confirmados_B.rename(columns = {'Confirmados': 'Confirmados_Ing'})\n",
    "\n",
    "# Convertimos a tipo de dato fecha la columna:\n",
    "\n",
    "Serie_Confirmados_B[\"Fecha\"] = pd.to_datetime(Serie_Confirmados_B[\"FECHA_INGRESO\"])\n",
    "\n",
    "Serie_Confirmados_B.head()"
   ]
  },
  {
   "cell_type": "markdown",
   "metadata": {},
   "source": [
    "## Serie de defunciones diarias\n",
    "\n",
    "### A. Por fecha de sintomas"
   ]
  },
  {
   "cell_type": "code",
   "execution_count": null,
   "metadata": {},
   "outputs": [],
   "source": [
    "# Agrupando por fechas: \n",
    "\n",
    "Grupos_fecha = Defunciones.groupby(\"FECHA_SINTOMAS\")\n",
    "\n",
    "# Guardamos como Data Frame\n",
    "\n",
    "Serie_Defunciones_A = Grupos_fecha.size().to_frame(\"Defunciones\").reset_index()\n",
    "\n",
    "# Convertimos a tipo de dato fecha la columna:\n",
    "\n",
    "Serie_Defunciones_A[\"Fecha\"] = pd.to_datetime(Serie_Defunciones_A[\"FECHA_SINTOMAS\"])\n",
    "\n",
    "Serie_Defunciones_A.head()"
   ]
  },
  {
   "cell_type": "markdown",
   "metadata": {},
   "source": [
    "### B. Por fecha de defunción"
   ]
  },
  {
   "cell_type": "code",
   "execution_count": null,
   "metadata": {},
   "outputs": [],
   "source": [
    "# Agrupando por fechas: \n",
    "\n",
    "Grupos_fecha = Defunciones.groupby(\"FECHA_DEF\")\n",
    "\n",
    "# Guardamos como Data Frame\n",
    "\n",
    "Serie_Defunciones_B = Grupos_fecha.size().to_frame(\"Defunciones\").reset_index()\n",
    "\n",
    "# Convertimos a tipo de dato fecha la columna:\n",
    "\n",
    "Serie_Defunciones_B[\"Fecha\"] = pd.to_datetime(Serie_Defunciones_B[\"FECHA_DEF\"])\n",
    "\n",
    "Serie_Defunciones_B.head()"
   ]
  },
  {
   "cell_type": "markdown",
   "metadata": {},
   "source": [
    "## Serie de casos sospechosos diarios"
   ]
  },
  {
   "cell_type": "code",
   "execution_count": null,
   "metadata": {},
   "outputs": [],
   "source": [
    "# Agrupando por fechas: \n",
    "\n",
    "Grupos_fecha = Sospechosos.groupby(\"FECHA_SINTOMAS\")\n",
    "\n",
    "# Guardamos como Data Frame\n",
    "\n",
    "Serie_Sospechosos = Grupos_fecha.size().to_frame(\"Sospechosos\").reset_index()\n",
    "\n",
    "# Convertimos a tipo de dato fecha la columna:\n",
    "\n",
    "Serie_Sospechosos[\"Fecha\"] = pd.to_datetime(Serie_Sospechosos[\"FECHA_SINTOMAS\"])\n",
    "\n",
    "Serie_Sospechosos.head()"
   ]
  },
  {
   "cell_type": "markdown",
   "metadata": {},
   "source": [
    "## Graficando "
   ]
  },
  {
   "cell_type": "code",
   "execution_count": null,
   "metadata": {},
   "outputs": [],
   "source": [
    "# Preparamos DataFrame's\n",
    "\n",
    "conf = Serie_Confirmados[['Confirmados', 'Fecha']] # Fecha de síntomas\n",
    "\n",
    "conf_b = Serie_Confirmados_B[['Confirmados_Ing', 'Fecha']] # Fecha de ingreso\n",
    "\n",
    "defun_a = Serie_Defunciones_A[['Defunciones', 'Fecha']] # Fecha de síntomas\n",
    "\n",
    "defun_b = Serie_Defunciones_B[['Defunciones', 'Fecha']] # Fecha de defunción\n",
    "\n",
    "sosp = Serie_Sospechosos[['Sospechosos', 'Fecha']] # Fecha de síntomas"
   ]
  },
  {
   "cell_type": "code",
   "execution_count": null,
   "metadata": {},
   "outputs": [],
   "source": [
    "# Unimos las series: \n",
    "\n",
    "# Confirmados + Confirmados (con fecha de ingreso)\n",
    "Series_Casos = pd.merge(conf, conf_b, how = 'outer', on = 'Fecha')\n",
    "\n",
    "# Confirmados + Defunciones (con fecha de síntomas)\n",
    "Series_Casos = pd.merge(Series_Casos, defun_a, how = 'outer', on = 'Fecha')\n",
    "\n",
    "# Renombramos serie defunciones por fecha de síntomas\n",
    "Series_Casos = Series_Casos.rename(columns = {'Defunciones': 'Defunciones_Sint'})\n",
    "\n",
    "# Confirmados + Defunciones (con fecha de síntomas) + Defunciones (con fecha de muerte)\n",
    "Series_Casos = pd.merge(Series_Casos, defun_b, how = 'outer', on = 'Fecha')\n",
    "\n",
    "# Renombramos serie defunciones por fecha de muerte\n",
    "Series_Casos = Series_Casos.rename(columns = {'Defunciones': 'Defunciones_Muer'})\n",
    "\n",
    "# Confirmados + Defunciones (con fecha de síntomas) + Defunciones (con fecha de muerte) + Sospechosos\n",
    "Series_Casos = pd.merge(Series_Casos, sosp, how = 'outer', on = 'Fecha')\n",
    "\n",
    "#Series_Casos = Series_Casos.sort_values(by = 'Fecha', ascending = False)\n",
    "\n",
    "Series_Casos.head()"
   ]
  },
  {
   "cell_type": "code",
   "execution_count": null,
   "metadata": {},
   "outputs": [],
   "source": [
    "# Ordenamos y reemplazamos nulos por ceros (0)\n",
    "\n",
    "#Series_Casos = Series_Casos.fillna(0)\n",
    "\n",
    "Series_Casos = Series_Casos.sort_values(by = 'Fecha', ascending = True).reset_index()\n",
    "\n",
    "Series_Casos = Series_Casos[['Fecha', 'Confirmados', 'Confirmados_Ing', 'Sospechosos', 'Defunciones_Sint', 'Defunciones_Muer']]\n",
    "\n",
    "Series_Casos"
   ]
  },
  {
   "cell_type": "code",
   "execution_count": null,
   "metadata": {},
   "outputs": [],
   "source": [
    "# Series TODAS\n",
    "\n",
    "plt.figure(figsize=(10, 6)) \n",
    "\n",
    "# Agrega cada serie de datos como una línea en el gráfico\n",
    "plt.plot(Series_Casos['Fecha'], Series_Casos['Confirmados'], label='Confirmados', color='darkblue')\n",
    "plt.plot(Series_Casos['Fecha'], Series_Casos['Sospechosos'], label='Sospechosos', color='orange')\n",
    "plt.plot(Series_Casos['Fecha'], Series_Casos['Defunciones_Sint'], label='Defunciones por fecha de síntomas', color='darkred')\n",
    "plt.plot(Series_Casos['Fecha'], Series_Casos['Defunciones_Muer'], label='Defunciones por fecha de muerte', color='darkgreen')\n",
    "\n",
    "# Configura el título y las leyendas\n",
    "plt.title('Casos Confirmados y Sospechosos, y Defunciones (por fecha de síntomas y defunción)')\n",
    "plt.legend()\n",
    "\n",
    "# Formato de la fecha en el eje X\n",
    "plt.gca().xaxis.set_major_formatter(plt.matplotlib.dates.DateFormatter('%Y-%m-%d'))\n",
    "plt.gca().xaxis.set_major_locator(plt.matplotlib.dates.AutoDateLocator())\n",
    "plt.xticks(rotation=0)  # Rota las fechas para mejor lectura\n",
    "\n",
    "# Muestra el gráfico\n",
    "plt.tight_layout()  \n",
    "plt.show()"
   ]
  },
  {
   "cell_type": "code",
   "execution_count": null,
   "metadata": {},
   "outputs": [],
   "source": [
    "# Series TODAS - Medias Móviles\n",
    "\n",
    "plt.figure(figsize=(10, 6)) \n",
    "\n",
    "# Agrega cada serie de datos como una línea en el gráfico\n",
    "plt.plot(Series_Casos['Fecha'], Series_Casos['Confirmados'].rolling(window = 7).mean()/1000, label='Confirmados', color='darkblue')\n",
    "plt.plot(Series_Casos['Fecha'], Series_Casos['Sospechosos'].rolling(window = 7).mean()/1000, label='Sospechosos', color='orange')\n",
    "plt.plot(Series_Casos['Fecha'], Series_Casos['Defunciones_Sint'].rolling(window = 7).mean()/1000, label='Defunciones por fecha de síntomas', color='darkred')\n",
    "plt.plot(Series_Casos['Fecha'], Series_Casos['Defunciones_Muer'].rolling(window = 7).mean()/1000, label='Defunciones por fecha de muerte', color='darkgreen')\n",
    "\n",
    "# Configura el título y las leyendas\n",
    "plt.title('Casos Confirmados y Sospechosos, y Defunciones (por fecha de síntomas y defunción) (en miles)')\n",
    "plt.legend()\n",
    "\n",
    "# Formato de la fecha en el eje X\n",
    "plt.gca().xaxis.set_major_formatter(plt.matplotlib.dates.DateFormatter('%Y-%m-%d'))\n",
    "plt.gca().xaxis.set_major_locator(plt.matplotlib.dates.AutoDateLocator())\n",
    "plt.xticks(rotation=0)  # Rota las fechas para mejor lectura\n",
    "\n",
    "# Muestra el gráfico\n",
    "plt.tight_layout()  \n",
    "plt.show()"
   ]
  },
  {
   "cell_type": "code",
   "execution_count": null,
   "metadata": {},
   "outputs": [],
   "source": [
    "# Series Confirmados\n",
    "\n",
    "plt.figure(figsize=(10, 6)) \n",
    "\n",
    "# Agrega cada serie de datos como una línea en el gráfico\n",
    "plt.plot(Series_Casos['Fecha'], Series_Casos['Confirmados']/1000, label='Confirmados', color='darkblue')\n",
    "\n",
    "# Configura el título y las leyendas\n",
    "plt.title('Evolución de los casos confirmados (por fecha de síntomas) - en miles')\n",
    "#plt.legend()\n",
    "\n",
    "# Formato de la fecha en el eje X\n",
    "plt.gca().xaxis.set_major_formatter(plt.matplotlib.dates.DateFormatter('%Y-%m-%d'))\n",
    "plt.gca().xaxis.set_major_locator(plt.matplotlib.dates.AutoDateLocator())\n",
    "plt.xticks(rotation=0)  # Rota las fechas para mejor lectura\n",
    "\n",
    "# Muestra el gráfico\n",
    "plt.tight_layout()  \n",
    "plt.show()"
   ]
  },
  {
   "cell_type": "code",
   "execution_count": null,
   "metadata": {},
   "outputs": [],
   "source": [
    "# Series Confirmados Medias Móviles\n",
    "\n",
    "plt.figure(figsize=(10, 6)) \n",
    "\n",
    "# Agrega cada serie de datos como una línea en el gráfico\n",
    "plt.plot(Series_Casos['Fecha'], Series_Casos['Confirmados'].rolling(window = 7).mean()/1000, label='Confirmados', color='darkblue')\n",
    "\n",
    "# Configura el título y las leyendas\n",
    "plt.title('Evolución de los casos confirmados (por fecha de síntomas y media mólvil 7 días) - en miles')\n",
    "#plt.legend()\n",
    "\n",
    "# Formato de la fecha en el eje X\n",
    "plt.gca().xaxis.set_major_formatter(plt.matplotlib.dates.DateFormatter('%Y-%m-%d'))\n",
    "plt.gca().xaxis.set_major_locator(plt.matplotlib.dates.AutoDateLocator())\n",
    "plt.xticks(rotation=45)  # Rota las fechas para mejor lectura\n",
    "\n",
    "# Muestra el gráfico\n",
    "plt.tight_layout()  \n",
    "plt.show()"
   ]
  },
  {
   "cell_type": "code",
   "execution_count": null,
   "metadata": {},
   "outputs": [],
   "source": [
    "# Series Confirmados ACUMULADOS\n",
    "\n",
    "plt.figure(figsize=(10, 6)) \n",
    "\n",
    "# Agrega cada serie de datos como una línea en el gráfico\n",
    "plt.plot(Series_Casos['Fecha'], Series_Casos['Confirmados'].fillna(0).cumsum()/1000000, label='Confirmados', color='darkblue')\n",
    "\n",
    "# Configura el título y las leyendas\n",
    "plt.title('Casos confirmados acumulados (por fecha de síntomas) - en millones')\n",
    "#plt.legend()\n",
    "\n",
    "# Formato de la fecha en el eje X\n",
    "plt.gca().xaxis.set_major_formatter(plt.matplotlib.dates.DateFormatter('%Y-%m-%d'))\n",
    "plt.gca().xaxis.set_major_locator(plt.matplotlib.dates.AutoDateLocator())\n",
    "plt.xticks(rotation=45)  # Rota las fechas para mejor lectura\n",
    "\n",
    "# Muestra el gráfico\n",
    "plt.tight_layout()  \n",
    "plt.show()"
   ]
  },
  {
   "cell_type": "code",
   "execution_count": null,
   "metadata": {},
   "outputs": [],
   "source": [
    "# Series Defunciones (fecha síntomas y fecha de defunción)\n",
    "\n",
    "plt.figure(figsize=(10, 6)) \n",
    "\n",
    "# Agrega cada serie de datos como una línea en el gráfico\n",
    "plt.plot(Series_Casos['Fecha'], Series_Casos['Defunciones_Sint']/1000, label='Defunciones por fecha de síntomas', color='darkred')\n",
    "plt.plot(Series_Casos['Fecha'], Series_Casos['Defunciones_Muer']/1000, label='Defunciones por fecha de muerte', color='darkgreen')\n",
    "\n",
    "# Configura el título y las leyendas\n",
    "plt.title('Evolución de las defunciones (por fecha de síntomas y por fecha de defunción) - en miles')\n",
    "plt.legend()\n",
    "\n",
    "# Formato de la fecha en el eje X\n",
    "plt.gca().xaxis.set_major_formatter(plt.matplotlib.dates.DateFormatter('%Y-%m-%d'))\n",
    "plt.gca().xaxis.set_major_locator(plt.matplotlib.dates.AutoDateLocator())\n",
    "plt.xticks(rotation=0)  # Rota las fechas para mejor lectura\n",
    "\n",
    "# Muestra el gráfico\n",
    "plt.tight_layout()  \n",
    "plt.show()"
   ]
  },
  {
   "cell_type": "code",
   "execution_count": null,
   "metadata": {},
   "outputs": [],
   "source": [
    "# Series Defunciones Medias Móviles\n",
    "\n",
    "plt.figure(figsize=(10, 6)) \n",
    "\n",
    "# Agrega cada serie de datos como una línea en el gráfico\n",
    "plt.plot(Series_Casos['Fecha'], Series_Casos['Defunciones_Sint'].rolling(window = 7).mean()/1000, label='Defunciones por fecha de síntomas', color='darkred')\n",
    "plt.plot(Series_Casos['Fecha'], Series_Casos['Defunciones_Muer'].rolling(window = 7).mean()/1000, label='Defunciones por fecha de muerte', color='darkgreen')\n",
    "\n",
    "# Configura el título y las leyendas\n",
    "plt.title('Evolución de las defunciones (por fecha de síntomas y por fecha de defunción y media móvil 7 días) - en miles')\n",
    "plt.legend()\n",
    "\n",
    "# Formato de la fecha en el eje X\n",
    "plt.gca().xaxis.set_major_formatter(plt.matplotlib.dates.DateFormatter('%Y-%m-%d'))\n",
    "plt.gca().xaxis.set_major_locator(plt.matplotlib.dates.AutoDateLocator())\n",
    "plt.xticks(rotation=0)  # Rota las fechas para mejor lectura\n",
    "\n",
    "# Muestra el gráfico\n",
    "plt.tight_layout()  \n",
    "plt.show()"
   ]
  },
  {
   "cell_type": "code",
   "execution_count": null,
   "metadata": {},
   "outputs": [],
   "source": [
    "# Series Defunciones TODAS ACUMULADAS\n",
    "\n",
    "plt.figure(figsize=(10, 6)) \n",
    "\n",
    "# Agrega cada serie de datos como una línea en el gráfico\n",
    "plt.plot(Series_Casos['Fecha'], Series_Casos['Defunciones_Sint'].fillna(0).cumsum()/1000, label='Defunciones por fecha de síntomas', color='darkred')\n",
    "plt.plot(Series_Casos['Fecha'], Series_Casos['Defunciones_Muer'].fillna(0).cumsum()/1000, label='Defunciones por fecha de muerte', color='darkgreen')\n",
    "\n",
    "# Configura el título y las leyendas\n",
    "plt.title('Defunciones acumuladas (por fecha de síntomas y por fecha de defunción) - en miles')\n",
    "plt.legend()\n",
    "\n",
    "# Formato de la fecha en el eje X\n",
    "plt.gca().xaxis.set_major_formatter(plt.matplotlib.dates.DateFormatter('%Y-%m-%d'))\n",
    "plt.gca().xaxis.set_major_locator(plt.matplotlib.dates.AutoDateLocator())\n",
    "plt.xticks(rotation=0)  # Rota las fechas para mejor lectura\n",
    "\n",
    "# Muestra el gráfico\n",
    "plt.tight_layout()  \n",
    "plt.show()"
   ]
  },
  {
   "cell_type": "code",
   "execution_count": null,
   "metadata": {},
   "outputs": [],
   "source": [
    "#\n",
    "\n",
    "Series_Casos.head()"
   ]
  },
  {
   "cell_type": "code",
   "execution_count": null,
   "metadata": {},
   "outputs": [],
   "source": [
    "#\n",
    "\n",
    "Series_Casos.tail()"
   ]
  },
  {
   "cell_type": "code",
   "execution_count": null,
   "metadata": {},
   "outputs": [],
   "source": [
    "# To CSV:\n",
    "\n",
    "#Series_Casos.to_csv('Series_Casos.csv', index = False, encoding = 'utf-8-sig')"
   ]
  },
  {
   "cell_type": "markdown",
   "metadata": {},
   "source": [
    "## Algoritmos de agrupamiento (clustering)\n",
    "\n",
    "Sabemos que los algoritmos pertenecientes a la familia del Aprendizaje No Supervisado no tienen ninguna variable que predecir ligada a los datos. En lugar de tener una salida, los datos solo tienen una entrada que serían múltiples variables que describen los datos. Aquí es donde entra en juego la agrupación.\n",
    "\n",
    "Clustering es la tarea de agrupar un conjunto de objetos de manera que los objetos del mismo grupo sean más similares entre sí que a los objetos de otros grupos. La similitud es una métrica que refleja la fuerza de la relación entre dos objetos de datos. \n",
    "\n",
    "La agrupación en clústeres se utiliza principalmente (pero no exclusivamente) para la exploración de datos. Tiene múltiples usos en muchos campos, como el machine learning, el reconocimiento de patrones, el análisis de imágenes, la recuperación de información, la bioinformática, la compresión de datos y los gráficos por computadora.\n",
    "\n",
    "Hacemos un repaso de esas técnicas.\n",
    "\n",
    "### K-medias\n",
    "\n",
    "Existen muchos modelos de agrupación. Revisaremos los más populares. A pesar de su simplicidad, K-means se utiliza ampliamente para la agrupación en clústeres en muchas aplicaciones de ciencia de datos, lo que es especialmente útil si necesita descubrir rápidamente información a partir de datos sin etiquetar. En este notebook, vemos cómo utilizar k-Means para la segmentación de casos."
   ]
  },
  {
   "cell_type": "code",
   "execution_count": null,
   "metadata": {},
   "outputs": [],
   "source": [
    "#Confirmados, Sospechosos, Defunciones\n",
    "# Definición de catalógos:\n",
    "ESTADO = ['AGUASCALIENTES', 'BAJA CALIFORNIA', 'BAJA CALIFORNIA SUR', 'CAMPECHE', 'COAHUILA DE ZARAGOZA', \n",
    "          'COLIMA', 'CHIAPAS', 'CHIHUAHUA', 'CIUDAD DE MÉXICO', 'DURANGO', 'GUANAJUATO', 'GUERRERO', 'HIDALGO', \n",
    "          'JALISCO', 'MÉXICO', 'MICHOACÁN DE OCAMPO', 'MORELOS', 'NAYARIT', 'NUEVO LEÓN', 'OAXACA', 'PUEBLA', \n",
    "          'QUERÉTARO', 'QUINTANA ROO', 'SAN LUIS POTOSÍ', 'SINALOA', 'SONORA', 'TABASCO', 'TAMAULIPAS', \n",
    "          'TLAXCALA', 'VERACRUZ DE IGNACIO DE LA LLAVE', 'YUCATÁN', 'ZACATECAS']\n",
    "\n",
    "ABREVIATURA = ['AS', 'BC', 'BS', 'CC', 'CL', 'CM', 'CS', 'CH', 'DF', 'DG', 'GT', 'GR', 'HG', 'JC', 'MC', 'MN',\n",
    "               'MS', 'NT', 'NL', 'OC', 'PL', 'QT', 'QR', 'SP', 'SL', 'SR', 'TC', 'TS', 'TL', 'VZ', 'YN', 'ZS']\n",
    "#"
   ]
  },
  {
   "cell_type": "code",
   "execution_count": null,
   "metadata": {},
   "outputs": [],
   "source": [
    "#\n",
    "\n",
    "Defunciones_KM = Defunciones\n",
    "\n",
    "Defunciones_KM.shape"
   ]
  },
  {
   "cell_type": "code",
   "execution_count": null,
   "metadata": {},
   "outputs": [],
   "source": [
    "# Variable de Días\n",
    "\n",
    "Defunciones_KM['Dias_Ing'] = ( pd.to_timedelta( \n",
    "                        pd.to_datetime( Defunciones_KM['FECHA_INGRESO'], format = '%Y-%m-%d' ) - \\\n",
    "                        pd.to_datetime( Defunciones_KM['FECHA_SINTOMAS'], format = '%Y-%m-%d' ) \n",
    "                   ).dt.total_seconds() / 3600 ) / 24\n",
    "\n",
    "Defunciones_KM['Dias_Def'] = ( pd.to_timedelta( \n",
    "                        pd.to_datetime( Defunciones_KM['FECHA_DEF'], format = '%Y-%m-%d' ) - \\\n",
    "                        pd.to_datetime( Defunciones_KM['FECHA_SINTOMAS'], format = '%Y-%m-%d' ) \n",
    "                   ).dt.total_seconds() / 3600 ) / 24"
   ]
  },
  {
   "cell_type": "code",
   "execution_count": null,
   "metadata": {},
   "outputs": [],
   "source": [
    "#\n",
    "\n",
    "Defunciones_KM.info()"
   ]
  },
  {
   "cell_type": "code",
   "execution_count": null,
   "metadata": {},
   "outputs": [],
   "source": [
    "# Pienso que estas son las variables relevantes de la tabla:\n",
    "# 'ENTIDAD_UM', 'ENTIDAD_RES', 'SEXO', 'EDAD', 'EMBARAZO', 'INDIGENA', \n",
    "# 'DIABETES', 'EPOC', 'ASMA', 'INMUSUPR', 'HIPERTENSION', 'OTRA_COM', \n",
    "# 'CARDIOVASCULAR', 'OBESIDAD', 'RENAL_CRONICA', 'TABAQUISMO',\n",
    "# 'UCI', 'INTUBADO', 'Dias_Ing', 'Dias_Def'\n",
    "\n",
    "Defunciones_KM.head()"
   ]
  },
  {
   "cell_type": "code",
   "execution_count": null,
   "metadata": {},
   "outputs": [],
   "source": [
    "# \n",
    "\n",
    "Defunciones_KM.ENTIDAD_UM.value_counts(normalize = True)"
   ]
  },
  {
   "cell_type": "code",
   "execution_count": null,
   "metadata": {},
   "outputs": [],
   "source": [
    "# \n",
    "\n",
    "Defunciones_KM.ENTIDAD_RES.value_counts(normalize=True)"
   ]
  },
  {
   "cell_type": "code",
   "execution_count": null,
   "metadata": {},
   "outputs": [],
   "source": [
    "# \n",
    "\n",
    "Defunciones_KM.SEXO.value_counts(normalize = True)"
   ]
  },
  {
   "cell_type": "code",
   "execution_count": null,
   "metadata": {},
   "outputs": [],
   "source": [
    "# \n",
    "\n",
    "Defunciones_KM.EDAD.value_counts(normalize = True)"
   ]
  },
  {
   "cell_type": "code",
   "execution_count": null,
   "metadata": {},
   "outputs": [],
   "source": [
    "#\n",
    "\n",
    "Defunciones_KM = Defunciones_KM[ Defunciones_KM['EDAD'] <= 100 ]\n",
    "\n",
    "Defunciones_KM.shape"
   ]
  },
  {
   "cell_type": "code",
   "execution_count": null,
   "metadata": {},
   "outputs": [],
   "source": [
    "# \n",
    "\n",
    "Defunciones_KM.EMBARAZO.value_counts(normalize = True)"
   ]
  },
  {
   "cell_type": "code",
   "execution_count": null,
   "metadata": {},
   "outputs": [],
   "source": [
    "# \n",
    "\n",
    "Defunciones_KM.INDIGENA.value_counts(normalize = True)"
   ]
  },
  {
   "cell_type": "code",
   "execution_count": null,
   "metadata": {},
   "outputs": [],
   "source": [
    "#\n",
    "\n",
    "Defunciones_KM = Defunciones_KM[ Defunciones_KM[\"INDIGENA\"].isin( [1, 2] ) ]\n",
    "\n",
    "Defunciones_KM.shape "
   ]
  },
  {
   "cell_type": "code",
   "execution_count": null,
   "metadata": {},
   "outputs": [],
   "source": [
    "# \n",
    "\n",
    "Defunciones_KM.DIABETES.value_counts(normalize = True)"
   ]
  },
  {
   "cell_type": "code",
   "execution_count": null,
   "metadata": {},
   "outputs": [],
   "source": [
    "#\n",
    "\n",
    "Defunciones_KM = Defunciones_KM[ Defunciones_KM[\"DIABETES\"].isin( [1, 2] ) ]\n",
    "\n",
    "Defunciones_KM.shape "
   ]
  },
  {
   "cell_type": "code",
   "execution_count": null,
   "metadata": {},
   "outputs": [],
   "source": [
    "# \n",
    "\n",
    "Defunciones_KM.EPOC.value_counts(normalize = True)"
   ]
  },
  {
   "cell_type": "code",
   "execution_count": null,
   "metadata": {},
   "outputs": [],
   "source": [
    "#\n",
    "\n",
    "Defunciones_KM = Defunciones_KM[ Defunciones_KM[\"EPOC\"].isin( [1, 2] ) ]\n",
    "\n",
    "Defunciones_KM.shape "
   ]
  },
  {
   "cell_type": "code",
   "execution_count": null,
   "metadata": {},
   "outputs": [],
   "source": [
    "# \n",
    "\n",
    "Defunciones_KM.ASMA.value_counts(normalize = True)"
   ]
  },
  {
   "cell_type": "code",
   "execution_count": null,
   "metadata": {},
   "outputs": [],
   "source": [
    "#\n",
    "\n",
    "Defunciones_KM = Defunciones_KM[ Defunciones_KM[\"ASMA\"].isin( [1, 2] ) ]\n",
    "\n",
    "Defunciones_KM.shape "
   ]
  },
  {
   "cell_type": "code",
   "execution_count": null,
   "metadata": {},
   "outputs": [],
   "source": [
    "# \n",
    "\n",
    "Defunciones_KM.INMUSUPR.value_counts(normalize = True)"
   ]
  },
  {
   "cell_type": "code",
   "execution_count": null,
   "metadata": {},
   "outputs": [],
   "source": [
    "#\n",
    "\n",
    "Defunciones_KM = Defunciones_KM[ Defunciones_KM[\"INMUSUPR\"].isin( [1, 2] ) ]\n",
    "\n",
    "Defunciones_KM.shape "
   ]
  },
  {
   "cell_type": "code",
   "execution_count": null,
   "metadata": {},
   "outputs": [],
   "source": [
    "# \n",
    "\n",
    "Defunciones_KM.HIPERTENSION.value_counts(normalize = True)"
   ]
  },
  {
   "cell_type": "code",
   "execution_count": null,
   "metadata": {},
   "outputs": [],
   "source": [
    "#\n",
    "\n",
    "Defunciones_KM = Defunciones_KM[ Defunciones_KM[\"HIPERTENSION\"].isin( [1, 2] ) ]\n",
    "\n",
    "Defunciones_KM.shape "
   ]
  },
  {
   "cell_type": "code",
   "execution_count": null,
   "metadata": {},
   "outputs": [],
   "source": [
    "# \n",
    "\n",
    "Defunciones_KM.OTRA_COM.value_counts(normalize = True)"
   ]
  },
  {
   "cell_type": "code",
   "execution_count": null,
   "metadata": {},
   "outputs": [],
   "source": [
    "#\n",
    "\n",
    "Defunciones_KM = Defunciones_KM[ Defunciones_KM[\"OTRA_COM\"].isin( [1, 2] ) ]\n",
    "\n",
    "Defunciones_KM.shape "
   ]
  },
  {
   "cell_type": "code",
   "execution_count": null,
   "metadata": {},
   "outputs": [],
   "source": [
    "# \n",
    "\n",
    "Defunciones_KM.CARDIOVASCULAR.value_counts(normalize = True)"
   ]
  },
  {
   "cell_type": "code",
   "execution_count": null,
   "metadata": {},
   "outputs": [],
   "source": [
    "#\n",
    "\n",
    "Defunciones_KM = Defunciones_KM[ Defunciones_KM[\"CARDIOVASCULAR\"].isin( [1, 2] ) ]\n",
    "\n",
    "Defunciones_KM.shape "
   ]
  },
  {
   "cell_type": "code",
   "execution_count": null,
   "metadata": {},
   "outputs": [],
   "source": [
    "# \n",
    "\n",
    "Defunciones_KM.OBESIDAD.value_counts(normalize = True)"
   ]
  },
  {
   "cell_type": "code",
   "execution_count": null,
   "metadata": {},
   "outputs": [],
   "source": [
    "#\n",
    "\n",
    "Defunciones_KM = Defunciones_KM[ Defunciones_KM[\"OBESIDAD\"].isin( [1, 2] ) ]\n",
    "\n",
    "Defunciones_KM.shape "
   ]
  },
  {
   "cell_type": "code",
   "execution_count": null,
   "metadata": {},
   "outputs": [],
   "source": [
    "# \n",
    "\n",
    "Defunciones_KM.RENAL_CRONICA.value_counts(normalize = True)"
   ]
  },
  {
   "cell_type": "code",
   "execution_count": null,
   "metadata": {},
   "outputs": [],
   "source": [
    "#\n",
    "\n",
    "Defunciones_KM = Defunciones_KM[ Defunciones_KM[\"RENAL_CRONICA\"].isin( [1, 2] ) ]\n",
    "\n",
    "Defunciones_KM.shape "
   ]
  },
  {
   "cell_type": "code",
   "execution_count": null,
   "metadata": {},
   "outputs": [],
   "source": [
    "# \n",
    "\n",
    "Defunciones_KM.TABAQUISMO.value_counts(normalize = True)"
   ]
  },
  {
   "cell_type": "code",
   "execution_count": null,
   "metadata": {},
   "outputs": [],
   "source": [
    "#\n",
    "\n",
    "Defunciones_KM = Defunciones_KM[ Defunciones_KM[\"TABAQUISMO\"].isin( [1, 2] ) ]\n",
    "\n",
    "Defunciones_KM.shape "
   ]
  },
  {
   "cell_type": "code",
   "execution_count": null,
   "metadata": {},
   "outputs": [],
   "source": [
    "# \n",
    "\n",
    "Defunciones_KM.UCI.value_counts(normalize = True)"
   ]
  },
  {
   "cell_type": "code",
   "execution_count": null,
   "metadata": {},
   "outputs": [],
   "source": [
    "#\n",
    "\n",
    "Defunciones_KM = Defunciones_KM[ Defunciones_KM[\"UCI\"].isin( [1, 2] ) ]\n",
    "\n",
    "Defunciones_KM.shape "
   ]
  },
  {
   "cell_type": "code",
   "execution_count": null,
   "metadata": {},
   "outputs": [],
   "source": [
    "# \n",
    "\n",
    "Defunciones_KM.INTUBADO.value_counts(normalize = True)"
   ]
  },
  {
   "cell_type": "code",
   "execution_count": null,
   "metadata": {},
   "outputs": [],
   "source": [
    "#\n",
    "\n",
    "Defunciones_KM = Defunciones_KM[ Defunciones_KM[\"INTUBADO\"].isin( [1, 2] ) ]\n",
    "\n",
    "Defunciones_KM.shape "
   ]
  },
  {
   "cell_type": "code",
   "execution_count": null,
   "metadata": {},
   "outputs": [],
   "source": [
    "# \n",
    "\n",
    "Defunciones_KM[ ['Dias_Ing', 'Dias_Def']].describe()"
   ]
  },
  {
   "cell_type": "code",
   "execution_count": null,
   "metadata": {},
   "outputs": [],
   "source": [
    "#\n",
    "\n",
    "Defunciones_KM = Defunciones_KM[ ( Defunciones_KM['Dias_Ing'] >= 0 ) & ( Defunciones_KM['Dias_Ing'] <= 20 ) & \\\n",
    "                                 ( Defunciones_KM['Dias_Def'] >= 0 ) & ( Defunciones_KM['Dias_Def'] <= 60 ) ]\n",
    "\n",
    "Defunciones_KM.shape"
   ]
  },
  {
   "cell_type": "code",
   "execution_count": null,
   "metadata": {},
   "outputs": [],
   "source": [
    "# \n",
    "\n",
    "Defunciones_KM[ ['Dias_Ing', 'Dias_Def']].describe()"
   ]
  },
  {
   "cell_type": "code",
   "execution_count": null,
   "metadata": {},
   "outputs": [],
   "source": [
    "#\n",
    "# Guarda el DataFrame en un archivo CSV\n",
    "Defunciones_KM.to_csv('Defunciones_KM.csv', index=False)"
   ]
  },
  {
   "cell_type": "markdown",
   "metadata": {},
   "source": [
    "## Leer tabla de datos de defunciones"
   ]
  },
  {
   "cell_type": "code",
   "execution_count": null,
   "metadata": {},
   "outputs": [],
   "source": [
    "# Leer el archivo CSV y guardarlo en un DataFrame\n",
    "\n",
    "Defunciones_KM = pd.read_csv('Defunciones_KM.csv')"
   ]
  },
  {
   "cell_type": "code",
   "execution_count": null,
   "metadata": {},
   "outputs": [],
   "source": [
    "# Let's see our data in a detailed way with pairplot\n",
    "\n",
    "sns.pairplot( Defunciones_KM[ [ 'SEXO','EDAD', 'Dias_Ing', 'Dias_Def' ] ] , hue = 'SEXO' )\n",
    "\n",
    "plt.show()"
   ]
  },
  {
   "cell_type": "code",
   "execution_count": null,
   "metadata": {},
   "outputs": [],
   "source": [
    "# Let's see our data in a detailed way with pairplot\n",
    "\n",
    "sns.pairplot( Defunciones_KM[ [ 'DIABETES','EDAD', 'Dias_Ing', 'Dias_Def' ] ] , hue = 'DIABETES' )\n",
    "\n",
    "plt.show()"
   ]
  },
  {
   "cell_type": "code",
   "execution_count": null,
   "metadata": {},
   "outputs": [],
   "source": [
    "# Let's see our data in a detailed way with pairplot\n",
    "\n",
    "sns.pairplot( Defunciones_KM[ [ 'HIPERTENSION','EDAD', 'Dias_Ing', 'Dias_Def' ] ] , hue = 'HIPERTENSION' )\n",
    "\n",
    "plt.show()"
   ]
  },
  {
   "cell_type": "markdown",
   "metadata": {},
   "source": [
    "De los gráficos anteriores vemos que el género y otras variables no parecen tener relación directa con la segmentación de defunciones. Es por eso que podemos dejarlo y continuar con otras características, razón por la cual usaremos el parámetro X de ahora en adelante."
   ]
  },
  {
   "cell_type": "code",
   "execution_count": null,
   "metadata": {},
   "outputs": [],
   "source": [
    "# Definimos X:\n",
    "\n",
    "X = Defunciones_KM [ [ 'ID_REGISTRO', 'ENTIDAD_UM', 'ENTIDAD_RES', 'SEXO', 'EDAD', 'INDIGENA', \n",
    "                       'DIABETES', 'EPOC', 'ASMA', 'INMUSUPR', 'HIPERTENSION', 'OTRA_COM', \n",
    "                       'CARDIOVASCULAR', 'OBESIDAD', 'RENAL_CRONICA', 'TABAQUISMO',\n",
    "                       'UCI', 'INTUBADO', 'Dias_Ing', 'Dias_Def' ] ]"
   ]
  },
  {
   "cell_type": "code",
   "execution_count": null,
   "metadata": {},
   "outputs": [],
   "source": [
    "# \n",
    "\n",
    "km = KMeans( n_clusters = 3 ).fit( X.drop(['ID_REGISTRO'], axis = 1) )\n",
    "\n",
    "km.inertia_ #km.labels_"
   ]
  },
  {
   "cell_type": "code",
   "execution_count": null,
   "metadata": {},
   "outputs": [],
   "source": [
    "#\n",
    "\n",
    "clusters = []\n",
    "\n",
    "#\n",
    "for i in range(1, 11):\n",
    "    km = KMeans( n_clusters = i ).fit( X.drop(['ID_REGISTRO'], axis = 1) )\n",
    "    clusters.append( km.inertia_ )\n",
    "\n",
    "#\n",
    "fig, ax = plt.subplots( figsize = (12, 8) )\n",
    "sns.lineplot(x = list(range(1, 11)), y = clusters, ax = ax)\n",
    "ax.set_title('Searching for Elbow')\n",
    "ax.set_xlabel('Clusters')\n",
    "ax.set_ylabel('Inertia')\n",
    "\n",
    "# Annotate arrow\n",
    "ax.annotate('Possible Elbow Point', xy = (2, 91797400), xytext = (2, 110000000), xycoords = 'data',          \n",
    "             arrowprops = dict( arrowstyle = '->', connectionstyle = 'arc3', color = 'blue', lw = 2))\n",
    "\n",
    "ax.annotate('Possible Elbow Point', xy = (3, 72737691), xytext = (3, 90000000), xycoords = 'data',          \n",
    "             arrowprops = dict( arrowstyle = '->', connectionstyle = 'arc3', color = 'blue', lw = 2))\n",
    "\n",
    "plt.show()"
   ]
  },
  {
   "cell_type": "markdown",
   "metadata": {},
   "source": [
    "El método del codo nos dice que seleccionemos el grupo cuando hay un cambio significativo en la inercia. Como podemos ver en el gráfico, podemos decir que puede ser 2, 3 o 6. Veamos ambos resultados en el gráfico y decidamos."
   ]
  },
  {
   "cell_type": "code",
   "execution_count": null,
   "metadata": {},
   "outputs": [],
   "source": [
    "# 2 cluster\n",
    "km2 = KMeans(n_clusters = 2).fit( X.drop(['ID_REGISTRO'], axis = 1) )\n",
    "\n",
    "X['Labels'] = km2.labels_ \n",
    "\n",
    "plt.figure( figsize = (12, 8) )\n",
    "\n",
    "sns.scatterplot( data = X, x = 'EDAD', y = 'Dias_Def', hue = 'Labels' )\n",
    "\n",
    "plt.title('KMeans with 2 Clusters')\n",
    "\n",
    "plt.show()"
   ]
  },
  {
   "cell_type": "code",
   "execution_count": null,
   "metadata": {},
   "outputs": [],
   "source": [
    "# 3 cluster\n",
    "km3 = KMeans(n_clusters = 3).fit( X.drop(['ID_REGISTRO'], axis = 1) )\n",
    "\n",
    "X['Labels'] = km3.labels_ \n",
    "\n",
    "plt.figure( figsize = (12, 8) )\n",
    "\n",
    "sns.scatterplot( data = X, x = 'EDAD', y = 'Dias_Def', hue = 'Labels' )\n",
    "\n",
    "plt.title('KMeans with 3 Clusters')\n",
    "\n",
    "plt.show()"
   ]
  },
  {
   "cell_type": "code",
   "execution_count": null,
   "metadata": {},
   "outputs": [],
   "source": [
    "# 6 cluster\n",
    "km6 = KMeans(n_clusters = 6).fit( X.drop(['ID_REGISTRO'], axis = 1) )\n",
    "\n",
    "X['Labels'] = km6.labels_ \n",
    "\n",
    "plt.figure( figsize = (12, 8) )\n",
    "\n",
    "sns.scatterplot( data = X, x = 'EDAD', y = 'Dias_Def', hue = 'Labels' )\n",
    "\n",
    "plt.title('KMeans with 6 Clusters')\n",
    "\n",
    "plt.show()"
   ]
  },
  {
   "cell_type": "code",
   "execution_count": null,
   "metadata": {},
   "outputs": [],
   "source": [
    "#\n",
    "\n",
    "X[ X['Labels'] == 0].describe()"
   ]
  },
  {
   "cell_type": "code",
   "execution_count": null,
   "metadata": {},
   "outputs": [],
   "source": [
    "#\n",
    "\n",
    "X[ X['Labels'] == 1].describe()"
   ]
  },
  {
   "cell_type": "code",
   "execution_count": null,
   "metadata": {},
   "outputs": [],
   "source": [
    "#\n",
    "\n",
    "X[ X['Labels'] == 2].describe()"
   ]
  },
  {
   "cell_type": "code",
   "execution_count": null,
   "metadata": {},
   "outputs": [],
   "source": [
    "#\n",
    "\n",
    "X[ X['Labels'] == 3].describe()"
   ]
  },
  {
   "cell_type": "code",
   "execution_count": null,
   "metadata": {},
   "outputs": [],
   "source": [
    "#\n",
    "\n",
    "X[ X['Labels'] == 4].describe()"
   ]
  },
  {
   "cell_type": "code",
   "execution_count": null,
   "metadata": {},
   "outputs": [],
   "source": [
    "#\n",
    "\n",
    "X[ X['Labels'] == 5].describe()"
   ]
  },
  {
   "cell_type": "code",
   "execution_count": null,
   "metadata": {},
   "outputs": [],
   "source": []
  },
  {
   "cell_type": "code",
   "execution_count": null,
   "metadata": {},
   "outputs": [],
   "source": []
  },
  {
   "cell_type": "code",
   "execution_count": null,
   "metadata": {},
   "outputs": [],
   "source": []
  }
 ],
 "metadata": {
  "kernelspec": {
   "display_name": "Python 3 (ipykernel)",
   "language": "python",
   "name": "python3"
  },
  "language_info": {
   "codemirror_mode": {
    "name": "ipython",
    "version": 3
   },
   "file_extension": ".py",
   "mimetype": "text/x-python",
   "name": "python",
   "nbconvert_exporter": "python",
   "pygments_lexer": "ipython3",
   "version": "3.10.14"
  }
 },
 "nbformat": 4,
 "nbformat_minor": 2
}
